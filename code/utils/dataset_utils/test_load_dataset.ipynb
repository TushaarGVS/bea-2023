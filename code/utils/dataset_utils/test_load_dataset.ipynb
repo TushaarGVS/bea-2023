{
 "cells": [
  {
   "cell_type": "code",
   "execution_count": 1,
   "metadata": {},
   "outputs": [
    {
     "name": "stderr",
     "output_type": "stream",
     "text": [
      "/Users/amasand/opt/miniconda3/envs/py3.8/lib/python3.8/site-packages/tqdm/auto.py:22: TqdmWarning: IProgress not found. Please update jupyter and ipywidgets. See https://ipywidgets.readthedocs.io/en/stable/user_install.html\n",
      "  from .autonotebook import tqdm as notebook_tqdm\n"
     ]
    }
   ],
   "source": [
    "from datasets import load_from_disk\n",
    "data = load_from_disk(\"data/train_with-reference\")"
   ]
  },
  {
   "cell_type": "code",
   "execution_count": 14,
   "metadata": {},
   "outputs": [
    {
     "data": {
      "text/plain": [
       "{'context': ['student: A) pull through\\nteacher: OK great\\nstudent: Not sure about the meaning of the second one... Does that person mean that being the prime minister he had to survive??',\n",
       "  \"student: willpower?)\\nteacher: Yes!\\nteacher: So, a bit of willpower, and kids will be super successful!\\nteacher: Do you think it worked?\\nstudent: yes\\nteacher: No! :))\\nstudent: why?\\nteacher: because human beings are way more complex than that\\nteacher: You know how in science it's very important that the results of a study be replicated?\\nstudent: yes, it's very important\"],\n",
       " 'response': ['teacher: Ah yes good question - this is a bit ambiguous....',\n",
       "  'teacher: yes, so scientists did more and more marshmallow tests and followed the lives of the kids, and they did not get the same results as the original study']}"
      ]
     },
     "execution_count": 14,
     "metadata": {},
     "output_type": "execute_result"
    }
   ],
   "source": [
    "data[0]"
   ]
  },
  {
   "cell_type": "code",
   "execution_count": null,
   "metadata": {},
   "outputs": [],
   "source": []
  }
 ],
 "metadata": {
  "kernelspec": {
   "display_name": "py3.8",
   "language": "python",
   "name": "python3"
  },
  "language_info": {
   "codemirror_mode": {
    "name": "ipython",
    "version": 3
   },
   "file_extension": ".py",
   "mimetype": "text/x-python",
   "name": "python",
   "nbconvert_exporter": "python",
   "pygments_lexer": "ipython3",
   "version": "3.8.13"
  },
  "orig_nbformat": 4
 },
 "nbformat": 4,
 "nbformat_minor": 2
}
