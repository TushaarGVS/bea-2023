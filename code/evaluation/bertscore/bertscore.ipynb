{
 "cells": [
  {
   "cell_type": "raw",
   "id": "b7b40548",
   "metadata": {
    "ExecuteTime": {
     "end_time": "2023-04-14T19:02:29.620087Z",
     "start_time": "2023-04-14T19:02:27.850147Z"
    }
   },
   "source": [
    "!pip install bert_score"
   ]
  },
  {
   "cell_type": "code",
   "execution_count": 4,
   "id": "c3788f92",
   "metadata": {
    "ExecuteTime": {
     "end_time": "2023-04-14T19:02:34.795305Z",
     "start_time": "2023-04-14T19:02:34.135485Z"
    }
   },
   "outputs": [],
   "source": [
    "from evaluate import load\n",
    "bertscore = load(\"bertscore\")"
   ]
  },
  {
   "cell_type": "code",
   "execution_count": 11,
   "id": "4f89694a",
   "metadata": {
    "ExecuteTime": {
     "end_time": "2023-04-14T19:09:29.073752Z",
     "start_time": "2023-04-14T19:09:29.069836Z"
    }
   },
   "outputs": [],
   "source": [
    "predictions = ['teacher: OK cool - I wondered if you fancied having a go at some CAE-type speaking questions? ' +\n",
    "               'WE;; not exactly \\'speaking\\' of course but you know what I mean....']\n",
    "references = ['teacher: Great! Let\\'s start with today\\'s topic. ' + \n",
    "              'What subject are you having trouble with or would you like to learn more about?']"
   ]
  },
  {
   "cell_type": "code",
   "execution_count": 12,
   "id": "79b8afba",
   "metadata": {
    "ExecuteTime": {
     "end_time": "2023-04-14T19:09:29.566397Z",
     "start_time": "2023-04-14T19:09:29.560100Z"
    }
   },
   "outputs": [
    {
     "name": "stdout",
     "output_type": "stream",
     "text": [
      "[\"OK cool - I wondered if you fancied having a go at some CAE-type speaking questions? WE;; not exactly 'speaking' of course but you know what I mean....\"] [\"Great! Let's start with today's topic. What subject are you having trouble with or would you like to learn more about?\"]\n"
     ]
    }
   ],
   "source": [
    "def preprocess(preds, refs, num_ignore_chars=9):\n",
    "    return [pred[9:] for pred in preds], [ref[9:] for ref in refs]\n",
    "\n",
    "predictions, references = preprocess(predictions, references)\n",
    "print(predictions, references)"
   ]
  },
  {
   "cell_type": "code",
   "execution_count": 20,
   "id": "7cb9e8f9",
   "metadata": {
    "ExecuteTime": {
     "end_time": "2023-04-14T19:18:05.265221Z",
     "start_time": "2023-04-14T19:18:05.111019Z"
    }
   },
   "outputs": [
    {
     "data": {
      "text/plain": [
       "{'precision': [0.816835343837738],\n",
       " 'recall': [0.8473068475723267],\n",
       " 'f1': [0.8317921757698059],\n",
       " 'hashcode': 'roberta-large_L17_no-idf_version=0.3.12(hug_trans=4.26.1)'}"
      ]
     },
     "execution_count": 20,
     "metadata": {},
     "output_type": "execute_result"
    }
   ],
   "source": [
    "# Change the model_type accordingly.\n",
    "results = bertscore.compute(predictions=predictions, references=references, lang='en', \n",
    "                            model_type='roberta-large')\n",
    "results"
   ]
  },
  {
   "cell_type": "code",
   "execution_count": null,
   "id": "12e4546c",
   "metadata": {},
   "outputs": [],
   "source": []
  }
 ],
 "metadata": {
  "kernelspec": {
   "display_name": "Python 3 (ipykernel)",
   "language": "python",
   "name": "python3"
  },
  "language_info": {
   "codemirror_mode": {
    "name": "ipython",
    "version": 3
   },
   "file_extension": ".py",
   "mimetype": "text/x-python",
   "name": "python",
   "nbconvert_exporter": "python",
   "pygments_lexer": "ipython3",
   "version": "3.9.6"
  }
 },
 "nbformat": 4,
 "nbformat_minor": 5
}
