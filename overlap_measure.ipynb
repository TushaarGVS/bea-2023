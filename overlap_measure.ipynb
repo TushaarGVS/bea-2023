{
 "cells": [
  {
   "cell_type": "code",
   "execution_count": 13,
   "metadata": {},
   "outputs": [],
   "source": [
    "import os \n",
    "import json\n",
    "import pandas as pd\n",
    "\n",
    "\n",
    "train_f = open(os.path.join(\"data\", \"raw\", f\"train_with-reference.jsonl\"), \"r\")\n",
    "data = []\n",
    "for line in train_f:\n",
    "    data.append(json.loads(line))\n",
    "train_f.close()\n",
    "\n",
    "dev_f = open(os.path.join(\"data\", \"raw\", f\"dev_without-reference.jsonl\"), \"r\")\n",
    "dev_data = []\n",
    "for line in dev_f:\n",
    "    dev_data.append(json.loads(line))\n",
    "dev_f.close()"
   ]
  },
  {
   "cell_type": "code",
   "execution_count": 14,
   "metadata": {},
   "outputs": [
    {
     "name": "stdout",
     "output_type": "stream",
     "text": [
      "Train set size: 1857\n",
      "Test set size: 890\n"
     ]
    }
   ],
   "source": [
    "import random\n",
    "from itertools import tee\n",
    "\n",
    "def triplewise(iterable):\n",
    "    a, b, c = tee(iterable, 3)\n",
    "    next(b, None)\n",
    "    next(c, None)\n",
    "    next(c, None)\n",
    "    return zip(a, b, c)\n",
    "\n",
    "def get_trigrams(convo):\n",
    "    texts = [utterance['text'] for utterance in convo['utterances']]\n",
    "    trigrams = set(triplewise(texts))\n",
    "    return trigrams\n",
    "\n",
    "def has_overlap(convo1, convo2):\n",
    "    convo1_trigrams = get_trigrams(convo1)\n",
    "    convo2_trigrams = get_trigrams(convo2)\n",
    "\n",
    "    return bool(convo1_trigrams.intersection(convo2_trigrams))\n",
    "\n",
    "random.shuffle(data)\n",
    "test_size = int(0.1 * len(data))\n",
    "\n",
    "train_data = data[test_size:]\n",
    "test_data = data[:test_size]\n",
    "\n",
    "for convo_test in test_data:\n",
    "    for convo_train in train_data:\n",
    "        if has_overlap(convo_test, convo_train):\n",
    "            train_data.remove(convo_train)\n",
    "            test_data.append(convo_train)\n",
    "\n",
    "print(\"Train set size:\", len(train_data))\n",
    "print(\"Test set size:\", len(test_data))"
   ]
  },
  {
   "cell_type": "code",
   "execution_count": 24,
   "metadata": {},
   "outputs": [
    {
     "name": "stdout",
     "output_type": "stream",
     "text": [
      "Number of overlaps between train and dev: 1236\n"
     ]
    }
   ],
   "source": [
    "# check overlap between train and dev\n",
    "count = 0\n",
    "ids = set()\n",
    "for convo in train_data:\n",
    "    for train_convo in train_data:\n",
    "        if train_convo != convo and has_overlap(convo, train_convo):\n",
    "            count += 1\n",
    "            ids.add(convo['id'])\n",
    "    #         print(\"Overlap found!\", convo['id'], train_convo['id'])\n",
    "    #         # print the 2 utterances and the 3 utterances that overlap\n",
    "    #         print (\"Convo 1:\", convo['utterances'])\n",
    "    #         print (\"Convo 2:\", train_convo['utterances'])\n",
    "    #         print (\"Overlap:\", get_trigrams(convo).intersection(get_trigrams(train_convo)))\n",
    "    #         break\n",
    "    # break\n",
    "print (\"Number of overlaps between train and dev:\", len(ids))"
   ]
  },
  {
   "cell_type": "code",
   "execution_count": null,
   "metadata": {},
   "outputs": [],
   "source": []
  }
 ],
 "metadata": {
  "kernelspec": {
   "display_name": "py3.8",
   "language": "python",
   "name": "python3"
  },
  "language_info": {
   "codemirror_mode": {
    "name": "ipython",
    "version": 3
   },
   "file_extension": ".py",
   "mimetype": "text/x-python",
   "name": "python",
   "nbconvert_exporter": "python",
   "pygments_lexer": "ipython3",
   "version": "3.8.13"
  },
  "orig_nbformat": 4
 },
 "nbformat": 4,
 "nbformat_minor": 2
}
